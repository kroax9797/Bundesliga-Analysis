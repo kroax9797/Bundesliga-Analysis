{
 "cells": [
  {
   "cell_type": "code",
   "execution_count": 4,
   "metadata": {},
   "outputs": [
    {
     "name": "stdout",
     "output_type": "stream",
     "text": [
      "            A    B\n",
      "0    1.000000  NaN\n",
      "1   27.493834  2.0\n",
      "2    3.000000  3.6\n",
      "3  -21.833157  4.9\n",
      "4    5.000000  6.0\n",
      "5  100.000000  7.0\n",
      "6  101.000000  8.0\n"
     ]
    }
   ],
   "source": [
    "import pandas as pd\n",
    "import numpy as np\n",
    "\n",
    "# Create a DataFrame with some NaN values\n",
    "df = pd.DataFrame({\n",
    "    'A': [1, None, 3, None, 5,100,101],\n",
    "    'B': [None, 2, None, None, 6 , 7 , 8]\n",
    "})\n",
    "\n",
    "# Fill NaN using spline interpolation\n",
    "df_interpolated = df.interpolate(method='spline', order=3)  # Cubic spline interpolation\n",
    "\n",
    "print(df_interpolated)\n",
    "\n"
   ]
  }
 ],
 "metadata": {
  "kernelspec": {
   "display_name": "Python 3",
   "language": "python",
   "name": "python3"
  },
  "language_info": {
   "codemirror_mode": {
    "name": "ipython",
    "version": 3
   },
   "file_extension": ".py",
   "mimetype": "text/x-python",
   "name": "python",
   "nbconvert_exporter": "python",
   "pygments_lexer": "ipython3",
   "version": "3.10.11"
  }
 },
 "nbformat": 4,
 "nbformat_minor": 2
}
